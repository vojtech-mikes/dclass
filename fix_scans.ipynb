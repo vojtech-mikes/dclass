{
 "cells": [
  {
   "cell_type": "code",
   "execution_count": 1,
   "id": "9b44bfb4",
   "metadata": {},
   "outputs": [],
   "source": [
    "from pathlib import Path\n",
    "import pathlib\n",
    "import re\n",
    "from datetime import date\n",
    "import os"
   ]
  },
  {
   "cell_type": "code",
   "execution_count": 2,
   "id": "d46c5cdd",
   "metadata": {},
   "outputs": [],
   "source": [
    "scans_lookup = {}\n",
    "\n",
    "target_path = Path(\"./fixed_scans\").absolute()\n",
    "\n",
    "for f in Path(\"processed_scans\").iterdir():\n",
    "    if not f.is_file():\n",
    "        continue\n",
    "\n",
    "    parts = f.name.split(\"_\")\n",
    "    barcode, ext = parts[-1].split(\".\")\n",
    "    part1, part2 = barcode.split(\"-\")\n",
    "\n",
    "    new_name = os.path.join(target_path, f\"{parts[0]}-{part2}-{int(part1) + 1}_{parts[4]}.{ext}\")\n",
    "    scans_lookup[f.absolute()] = new_name\n"
   ]
  },
  {
   "cell_type": "code",
   "execution_count": 3,
   "id": "b60da604",
   "metadata": {},
   "outputs": [],
   "source": [
    "def modify_ply_from_Phenospex(input_filename, output_filename):\n",
    "    \"\"\" \n",
    "        read Phenospex point cloud PLY file\n",
    "        read header from input file, delete SPACE in header, write to output file in PLY format\n",
    "\n",
    "        author: Serkan Kartal\n",
    "    \"\"\"\n",
    "\n",
    "    with open(input_filename, \"br\") as f:   #open input file\n",
    "        s = f.read()\n",
    "        end_spaces = s.find(b'\\x65\\x6E\\x64\\x5F\\x68\\x65\\x61\\x64\\x65\\x72\\x0A')  #find end_heder\n",
    "        start_spaces = s.find(b'\\x76\\x65\\x72\\x74\\x65\\x78\\x5F\\x69\\x6E\\x64\\x65\\x78\\x0A') + 13  #find sequence of spaces\n",
    "        s= s.replace(s[:end_spaces], s[:start_spaces])   #delete spaces\n",
    "        f.close()\n",
    "    with open(output_filename, \"bw\") as f:   #write modified content to output file\n",
    "        f.write(s[::])\n",
    "        f.close()\n",
    "\n",
    "    return output_filename\n"
   ]
  },
  {
   "cell_type": "code",
   "execution_count": 4,
   "id": "81839837",
   "metadata": {},
   "outputs": [],
   "source": [
    "for k,v in scans_lookup.items():\n",
    "    modify_ply_from_Phenospex(k,v)"
   ]
  }
 ],
 "metadata": {
  "kernelspec": {
   "display_name": "dclass",
   "language": "python",
   "name": "python3"
  },
  "language_info": {
   "codemirror_mode": {
    "name": "ipython",
    "version": 3
   },
   "file_extension": ".py",
   "mimetype": "text/x-python",
   "name": "python",
   "nbconvert_exporter": "python",
   "pygments_lexer": "ipython3",
   "version": "3.13.7"
  }
 },
 "nbformat": 4,
 "nbformat_minor": 5
}
