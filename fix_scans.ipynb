{
 "cells": [
  {
   "cell_type": "code",
   "execution_count": 3,
   "id": "9b44bfb4",
   "metadata": {},
   "outputs": [],
   "source": [
    "import os\n",
    "import pathlib\n",
    "import re"
   ]
  },
  {
   "cell_type": "code",
   "execution_count": 10,
   "id": "d46c5cdd",
   "metadata": {},
   "outputs": [],
   "source": [
    "processed_scans_files = os.listdir(path=\"processed_scans\")\n",
    "\n",
    "scans_lookup = {x: \"_\".join(x.split(\"_\")[4:]) for x in processed_scans_files}"
   ]
  },
  {
   "cell_type": "code",
   "execution_count": null,
   "id": "e7c21540",
   "metadata": {},
   "outputs": [
    {
     "name": "stdout",
     "output_type": "stream",
     "text": [
      "{'204_B_M_f00204_20230829T095123_1-11.ply': '20230829T095123_1-11.ply', '204_B_M_f00204_20230829T095123_0-11.ply': '20230829T095123_0-11.ply', '204_B_M_f00204_20230829T025017_1-4.ply': '20230829T025017_1-4.ply', '205_B_M_f00205_20230904T050438_0-1.ply': '20230904T050438_0-1.ply', '205_B_M_f00205_20230904T091519_0-1.ply': '20230904T091519_0-1.ply', '205_B_M_f00205_20230829T024930_1-9.ply': '20230829T024930_1-9.ply', '204_B_M_f00204_20230829T025017_0-11.ply': '20230829T025017_0-11.ply', '205_B_M_f00205_20230829T095036_1-9.ply': '20230829T095036_1-9.ply', '206_B_M_f00206_20230904T050351_0-2.ply': '20230904T050351_0-2.ply', '204_B_M_f00204_20230829T025017_0-8.ply': '20230829T025017_0-8.ply', '205_B_M_f00205_20230904T091519_1-9.ply': '20230904T091519_1-9.ply', '204_B_M_f00204_20230829T025017_1-11.ply': '20230829T025017_1-11.ply', '204_B_M_f00204_20230829T095123_0-8.ply': '20230829T095123_0-8.ply', '206_B_M_f00206_20230904T091431_0-2.ply': '20230904T091431_0-2.ply', '204_B_M_f00204_20230829T095123_1-7.ply': '20230829T095123_1-7.ply', '205_B_M_f00205_20230829T024930_1-5.ply': '20230829T024930_1-5.ply', '205_B_M_f00205_20230904T050438_1-9.ply': '20230904T050438_1-9.ply', '204_B_M_f00204_20230829T025017_1-7.ply': '20230829T025017_1-7.ply', '204_B_M_f00204_20230829T095123_1-4.ply': '20230829T095123_1-4.ply', '205_B_M_f00205_20230829T095036_1-5.ply': '20230829T095036_1-5.ply'}\n"
     ]
    }
   ],
   "source": [
    "# TODO: Fix the barcode number sin the target file name\n",
    "\n",
    "print(scans_lookup)"
   ]
  },
  {
   "cell_type": "code",
   "execution_count": null,
   "id": "b60da604",
   "metadata": {},
   "outputs": [],
   "source": [
    "def modify_ply_from_Phenospex(input_filename, output_filename):\n",
    "    \"\"\" \n",
    "        read Phenospex point cloud PLY file\n",
    "        read header from input file, delete SPACE in header, write to output file in PLY format\n",
    "\n",
    "        author: Serkan Kartal\n",
    "    \"\"\"\n",
    "\n",
    "    with open(input_filename, \"br\") as f:   #open input file\n",
    "        s = f.read()\n",
    "        end_spaces = s.find(b'\\x65\\x6E\\x64\\x5F\\x68\\x65\\x61\\x64\\x65\\x72\\x0A')  #find end_heder\n",
    "        start_spaces = s.find(b'\\x76\\x65\\x72\\x74\\x65\\x78\\x5F\\x69\\x6E\\x64\\x65\\x78\\x0A') + 13  #find sequence of spaces\n",
    "        s= s.replace(s[:end_spaces], s[:start_spaces])   #delete spaces\n",
    "        f.close()\n",
    "    with open(output_filename, \"bw\") as f:   #write modified content to output file\n",
    "        f.write(s[::])\n",
    "        f.close()\n",
    "\n",
    "    return output_filename\n"
   ]
  }
 ],
 "metadata": {
  "kernelspec": {
   "display_name": "dclass",
   "language": "python",
   "name": "python3"
  },
  "language_info": {
   "codemirror_mode": {
    "name": "ipython",
    "version": 3
   },
   "file_extension": ".py",
   "mimetype": "text/x-python",
   "name": "python",
   "nbconvert_exporter": "python",
   "pygments_lexer": "ipython3",
   "version": "3.13.7"
  }
 },
 "nbformat": 4,
 "nbformat_minor": 5
}
